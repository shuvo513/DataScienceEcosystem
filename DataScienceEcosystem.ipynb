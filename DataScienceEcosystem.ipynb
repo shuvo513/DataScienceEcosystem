{
 "cells": [
  {
   "cell_type": "markdown",
   "id": "574e1ef0-3954-46e4-85e0-ec07e6f70412",
   "metadata": {},
   "source": [
    "# Data Science Tools and Ecosystem"
   ]
  },
  {
   "cell_type": "markdown",
   "id": "20187e7a-676f-45fd-add9-319b6e151f58",
   "metadata": {},
   "source": [
    "In this notebook, Data Science Tools and Ecosystem are summarized."
   ]
  },
  {
   "cell_type": "markdown",
   "id": "9d22d190-c610-4770-943b-0b1d91ee50bc",
   "metadata": {},
   "source": [
    "Some of the popular languages that Data Scientists use are:\n",
    "<ol>\n",
    "    <li>Python</li>\n",
    "    <li>R</li>\n",
    "    <li>Scala</li>\n",
    "    <li>Java</li>\n",
    "</ol>"
   ]
  },
  {
   "cell_type": "markdown",
   "id": "0e2b6463-81a7-4760-b8c7-f776e5e5aaa6",
   "metadata": {},
   "source": [
    "Some of the commonly used libraries used by Data Scientists include:\n",
    "<ol>\n",
    "    <li>Pandas</li>\n",
    "    <li>Numpy</li>\n",
    "    <li>Tensorflow</li>\n",
    "    <li>Caret</li>\n",
    "</ol>"
   ]
  },
  {
   "cell_type": "markdown",
   "id": "f56b7878-1c28-432b-ab87-025d389def69",
   "metadata": {},
   "source": [
    "<table>\n",
    "    <th>Data Science Tools</th>\n",
    "    <tr><td>R-Studio</td></tr>\n",
    "    <tr><td>Jupyter Notebook</td></tr>\n",
    "    <tr><td>Google Colab</td></tr>\n",
    "</table>"
   ]
  },
  {
   "cell_type": "markdown",
   "id": "1ed904f1-d488-4f4f-a472-74326b715364",
   "metadata": {},
   "source": [
    "### Below are a few examples of evaluating arithmetic expressions in Python"
   ]
  },
  {
   "cell_type": "code",
   "execution_count": 12,
   "id": "553f5c8a-7696-4d2f-886f-5cae09ff4208",
   "metadata": {},
   "outputs": [
    {
     "data": {
      "text/plain": [
       "17"
      ]
     },
     "execution_count": 12,
     "metadata": {},
     "output_type": "execute_result"
    }
   ],
   "source": [
    "#  This a simple arithmetic expression to mutiply then add integers\n",
    "(3*4)+5"
   ]
  },
  {
   "cell_type": "code",
   "execution_count": 16,
   "id": "c1e0e29f-d2f6-4d27-9893-4d8cd8934ccc",
   "metadata": {},
   "outputs": [
    {
     "name": "stdout",
     "output_type": "stream",
     "text": [
      "3.3333333333333335\n"
     ]
    }
   ],
   "source": [
    "# This will convert 200 minutes to hours by diving by 60\n",
    "minutes=200\n",
    "hours= minutes/60\n",
    "print(hours)"
   ]
  },
  {
   "cell_type": "markdown",
   "id": "9c099748-f96a-4cca-9da5-73045a9f1257",
   "metadata": {},
   "source": [
    "**Objectives:**  \n",
    "List popular languages for Data Science\n",
    "<ul>\n",
    "    <li>Python</li>\n",
    "    <li>R</li>\n",
    "    <li>Scala</li>\n",
    "    <li>Java</li>\n",
    "    <li>Javascript</li>\n",
    "</ul>\n"
   ]
  },
  {
   "cell_type": "markdown",
   "id": "499f3466-475d-462e-8c13-b4138630175e",
   "metadata": {},
   "source": [
    "## Author  \n",
    "Mehedi Hasan\n",
    "\n"
   ]
  },
  {
   "cell_type": "code",
   "execution_count": null,
   "id": "c9acad1f-fcd9-45d3-b85c-c727dfec0700",
   "metadata": {},
   "outputs": [],
   "source": []
  }
 ],
 "metadata": {
  "kernelspec": {
   "display_name": "Python 3 (ipykernel)",
   "language": "python",
   "name": "python3"
  },
  "language_info": {
   "codemirror_mode": {
    "name": "ipython",
    "version": 3
   },
   "file_extension": ".py",
   "mimetype": "text/x-python",
   "name": "python",
   "nbconvert_exporter": "python",
   "pygments_lexer": "ipython3",
   "version": "3.12.3"
  }
 },
 "nbformat": 4,
 "nbformat_minor": 5
}
